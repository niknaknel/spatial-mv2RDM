{
 "cells": [
  {
   "metadata": {},
   "cell_type": "markdown",
   "source": [
    "# Classical shadows for the v2RDM\n",
    "This notebook provides an initial attempt at true classical constraints on the spatial v2RDM, as described in Appendix C of my Master's thesis. The result is inaccurate for the moment, but the code is very much a first draft.\n",
    "\n",
    "The steps are:\n",
    "1. Get the groundstate of a molecule\n",
    "2. Apply Clifford unitary to the state\n",
    "3. Measure in the computational basis\n",
    "4. Invert the map for Clifford unitaries to get a classical shadow\n",
    "5. Aggregating the shadows\n",
    "6. Estimate the target function using the aggregated shadows"
   ],
   "id": "d87039fbe88dc25d"
  },
  {
   "cell_type": "code",
   "id": "cdf65919b5850436",
   "metadata": {
    "ExecuteTime": {
     "end_time": "2025-08-20T21:53:27.561206Z",
     "start_time": "2025-08-20T21:53:27.557823Z"
    }
   },
   "source": [
    "import numpy as np\n",
    "from qiskit.quantum_info import random_clifford\n",
    "from src.molecule_helper import create_molecule, get_hamiltonian, get_groundstate, get_spatial_D2"
   ],
   "outputs": [],
   "execution_count": 14
  },
  {
   "metadata": {
    "ExecuteTime": {
     "end_time": "2025-08-20T21:41:03.426063Z",
     "start_time": "2025-08-20T21:41:03.417454Z"
    }
   },
   "cell_type": "code",
   "source": [
    "def sample_bitstring_from_statevector(psi, num_samples=1, seed=None):\n",
    "    rng = np.random.default_rng(seed)\n",
    "    probs = np.abs(psi) ** 2\n",
    "    assert np.isclose(np.sum(probs), 1.0), \"Statevector must be normalized\"\n",
    "\n",
    "    d = len(psi)\n",
    "    n = int(np.log2(d))\n",
    "    bitstrings = [format(i, f\"0{n}b\") for i in range(d)]\n",
    "\n",
    "    # sample according to probability distribution given by state\n",
    "    samples = rng.choice(bitstrings, size=num_samples, p=probs)\n",
    "    return samples\n",
    "\n",
    "\n",
    "def clifford_inverse(U, bvec, n):\n",
    "    # inverse mapping provided by Huang et al\n",
    "    return (2 ** n + 1) * U.conj().T @ bvec @ bvec.conj().T @ U - np.identity(2 ** n)\n",
    "\n",
    "\n",
    "def make_shadow(gs, n_qubits):\n",
    "    # 1. We have already gotten our ground state\n",
    "\n",
    "    # sample Clifford\n",
    "    clifford = random_clifford(n_qubits)\n",
    "    U = clifford.to_operator().data\n",
    "\n",
    "    # 2. Apply Clifford\n",
    "    psi_prime = np.asarray(U @ gs).flatten()\n",
    "\n",
    "    # 3. Measure and store bitstring\n",
    "    bstr = sample_bitstring_from_statevector(psi_prime)[0]\n",
    "    idx = int(bstr, 2)\n",
    "    bvec = np.zeros((2 ** n_qubits, 1), dtype=complex)\n",
    "    bvec[idx] = 1.0\n",
    "\n",
    "    # 4. Apply inverse mapping\n",
    "    rho_estimate = clifford_inverse(U, bvec, n_qubits)\n",
    "    return rho_estimate\n"
   ],
   "id": "initial_id",
   "outputs": [],
   "execution_count": 5
  },
  {
   "metadata": {
    "ExecuteTime": {
     "end_time": "2025-08-20T21:41:35.125615Z",
     "start_time": "2025-08-20T21:41:08.189760Z"
    }
   },
   "cell_type": "code",
   "source": [
    "# Test\n",
    "mol = create_molecule('hydrogen', 1.0)\n",
    "H = get_hamiltonian(mol)\n",
    "_, gs = get_groundstate(H)\n",
    "\n",
    "N_shadows = 10000\n",
    "shadows = [make_shadow(gs, mol.n_qubits) for _ in range(N_shadows)]"
   ],
   "id": "a1defe3667edebaf",
   "outputs": [],
   "execution_count": 6
  },
  {
   "metadata": {
    "ExecuteTime": {
     "end_time": "2025-08-20T21:47:35.476080Z",
     "start_time": "2025-08-20T21:47:33.366035Z"
    }
   },
   "cell_type": "code",
   "source": [
    "from openfermion import FermionOperator, jordan_wigner, get_sparse_operator\n",
    "from itertools import product\n",
    "\n",
    "# 5. Aggregate shadows\n",
    "ave_shadows = sum(shadows)/N_shadows # just using average for now\n",
    "\n",
    "# 6. Estimate target function\n",
    "r = mol.n_qubits\n",
    "Dshadow = np.zeros((r, r, r, r), dtype=np.complex128)\n",
    "\n",
    "for i, j, k, l in product(range(r), repeat=4):\n",
    "    op = FermionOperator(f\"{i}^ {j}^ {k} {l}\", 1.0) # our target function is the 2-RDM operator using second quantization\n",
    "    op = jordan_wigner(op)\n",
    "    op_dense = get_sparse_operator(op, n_qubits=mol.n_qubits).todense()\n",
    "    Dshadow[i, j, k, l] += np.trace(op_dense @ ave_shadows)\n",
    "\n",
    "Dshadow = Dshadow.reshape(r**2, r**2)\n",
    "Dshadow = Dshadow/N_shadows"
   ],
   "id": "9a21f3f3f885a6cc",
   "outputs": [],
   "execution_count": 9
  },
  {
   "metadata": {},
   "cell_type": "markdown",
   "source": "### Detour: Spin-orb to spatial conversion",
   "id": "707a5fff8288238e"
  },
  {
   "metadata": {
    "ExecuteTime": {
     "end_time": "2025-08-20T21:56:52.784798Z",
     "start_time": "2025-08-20T21:56:52.778006Z"
    }
   },
   "cell_type": "code",
   "source": [
    "def spinorbital_to_spatial_2rdm(D_spin):\n",
    "    \"\"\"\n",
    "    Convert a spin-orbital 2-RDM (4r**2, 4r**2) into a spatial 2-RDM (r**2, r**2)\n",
    "    by summing over spin indices.\n",
    "    \"\"\"\n",
    "    assert D_spin.shape[0] % 2 == 0, \"Spin-orbital tensor must have even dimension\"\n",
    "    r2 = int(np.sqrt(D_spin.shape[0]))\n",
    "    r =  r2 // 2\n",
    "\n",
    "    D_spatial = np.zeros((r, r, r, r))\n",
    "    D_spin_tensor = D_spin.reshape((r2, r2, r2, r2))\n",
    "\n",
    "    for i in range(r):\n",
    "        for j in range(r):\n",
    "            for k in range(r):\n",
    "                for l in range(r):\n",
    "                    # Spin indices\n",
    "                    ia, ib = 2*i, 2*i+1\n",
    "                    ja, jb = 2*j, 2*j+1\n",
    "                    ka, kb = 2*k, 2*k+1\n",
    "                    la, lb = 2*l, 2*l+1\n",
    "\n",
    "                    # αααα\n",
    "                    term_aa = D_spin_tensor[ia, ja, ka, la]\n",
    "                    # ββββ\n",
    "                    term_bb = D_spin_tensor[ib, jb, kb, lb]\n",
    "                    # αββα\n",
    "                    term_ab = D_spin_tensor[ia, jb, kb, la]\n",
    "                    # βααβ\n",
    "                    term_ba = D_spin_tensor[ib, ja, ka, lb]\n",
    "\n",
    "                    D_spatial[i, j, l, k] = 0.5 * (term_aa + term_bb + term_ab + term_ba)\n",
    "\n",
    "    return D_spatial.reshape(r*r, r*r) # minus apparently necessary because of OpenFermion indexing"
   ],
   "id": "e1b2b7b488f8a23",
   "outputs": [],
   "execution_count": 35
  },
  {
   "metadata": {},
   "cell_type": "markdown",
   "source": "### Back to shadows...",
   "id": "2927b2204a509fe1"
  },
  {
   "metadata": {
    "ExecuteTime": {
     "end_time": "2025-08-20T21:56:53.259928Z",
     "start_time": "2025-08-20T21:56:53.254192Z"
    }
   },
   "cell_type": "code",
   "source": [
    "# Compare to FCI 2-RDM\n",
    "spatial_shadow = spinorbital_to_spatial_2rdm(Dshadow)\n",
    "np.trace(spatial_shadow) # trace strangely small"
   ],
   "id": "c9b10bf0ac657443",
   "outputs": [
    {
     "name": "stderr",
     "output_type": "stream",
     "text": [
      "/var/folders/rj/x04zff0d7_z87bgpc5cs298r0000gq/T/ipykernel_44735/4011304751.py:32: ComplexWarning: Casting complex values to real discards the imaginary part\n",
      "  D_spatial[i, j, l, k] = 0.5 * (term_aa + term_bb + term_ab + term_ba)\n"
     ]
    },
    {
     "data": {
      "text/plain": [
       "0.000100572499999999"
      ]
     },
     "execution_count": 36,
     "metadata": {},
     "output_type": "execute_result"
    }
   ],
   "execution_count": 36
  },
  {
   "metadata": {
    "ExecuteTime": {
     "end_time": "2025-08-20T21:56:56.298892Z",
     "start_time": "2025-08-20T21:56:56.295499Z"
    }
   },
   "cell_type": "code",
   "source": "dfci = get_spatial_D2(mol)",
   "id": "f1d2895c55065779",
   "outputs": [],
   "execution_count": 37
  },
  {
   "metadata": {
    "ExecuteTime": {
     "end_time": "2025-08-20T21:56:56.654613Z",
     "start_time": "2025-08-20T21:56:56.649201Z"
    }
   },
   "cell_type": "code",
   "source": "np.round(spatial_shadow - dfci, 3) # some difference... not sure why",
   "id": "a3494ed0a97a8444",
   "outputs": [
    {
     "data": {
      "text/plain": [
       "array([[-0.969,  0.   ,  0.   ,  0.173],\n",
       "       [ 0.   , -0.   ,  0.   , -0.   ],\n",
       "       [ 0.   ,  0.   , -0.   , -0.   ],\n",
       "       [ 0.173, -0.   , -0.   , -0.031]])"
      ]
     },
     "execution_count": 38,
     "metadata": {},
     "output_type": "execute_result"
    }
   ],
   "execution_count": 38
  }
 ],
 "metadata": {
  "kernelspec": {
   "display_name": "Python 3",
   "language": "python",
   "name": "python3"
  },
  "language_info": {
   "codemirror_mode": {
    "name": "ipython",
    "version": 2
   },
   "file_extension": ".py",
   "mimetype": "text/x-python",
   "name": "python",
   "nbconvert_exporter": "python",
   "pygments_lexer": "ipython2",
   "version": "2.7.6"
  }
 },
 "nbformat": 4,
 "nbformat_minor": 5
}
