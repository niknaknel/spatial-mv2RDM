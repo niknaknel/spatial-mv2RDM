{
 "cells": [
  {
   "metadata": {},
   "cell_type": "markdown",
   "source": "# Example of running the spatial m-v2RDM",
   "id": "10b5ad2629ff9b65"
  },
  {
   "metadata": {
    "ExecuteTime": {
     "end_time": "2025-08-24T22:06:05.852467Z",
     "start_time": "2025-08-24T22:06:03.252649Z"
    }
   },
   "cell_type": "code",
   "source": [
    "import numpy as np\n",
    "from src.molecule_helper import create_molecule, get_spatial_D2, get_fci_curve\n",
    "from src.measurements import generate_measurement\n",
    "from src.spatial_mv2RDM import run_sdp\n",
    "import matplotlib.pyplot as plt"
   ],
   "id": "a687765dc2d6a4d8",
   "outputs": [],
   "execution_count": 1
  },
  {
   "metadata": {
    "ExecuteTime": {
     "end_time": "2025-08-24T22:06:06.698580Z",
     "start_time": "2025-08-24T22:06:06.695943Z"
    }
   },
   "cell_type": "code",
   "source": [
    "# Setup MOSEK license path (add your personal license to the repo)\n",
    "# import os\n",
    "# import mosek\n",
    "# license_path = os.getcwd().split('spatial-mv2RDM')[0] + 'spatial-mv2RDM/.mosek.lic'\n",
    "# mosek.Env(globalenv=True, licensefile=license_path)"
   ],
   "id": "638655632cee887f",
   "outputs": [],
   "execution_count": 2
  },
  {
   "metadata": {},
   "cell_type": "markdown",
   "source": "## Hydrogen",
   "id": "fdc69678341f0eab"
  },
  {
   "metadata": {
    "ExecuteTime": {
     "end_time": "2025-08-24T22:06:15.793101Z",
     "start_time": "2025-08-24T22:06:12.822613Z"
    }
   },
   "cell_type": "code",
   "source": [
    "xfci, fci = get_fci_curve('hydrogen')\n",
    "xs = np.linspace(0.25, 2.5, 10)\n",
    "energies = []\n",
    "\n",
    "for x in xs:\n",
    "    mol_x = create_molecule('hydrogen', x)\n",
    "    r = mol_x.n_orbitals\n",
    "    result = run_sdp(mol_x, conditions='DQG')\n",
    "    energies.append(result['primal'])"
   ],
   "id": "e93aae73f138cb3",
   "outputs": [],
   "execution_count": 4
  },
  {
   "metadata": {
    "ExecuteTime": {
     "end_time": "2025-08-24T22:06:16.955333Z",
     "start_time": "2025-08-24T22:06:16.776141Z"
    }
   },
   "cell_type": "code",
   "source": [
    "# plot\n",
    "plt.plot(xfci, fci, '-', color='skyblue', label='FCI')\n",
    "plt.plot(xs, energies, 'x', color='orange', label='spatial v2RDM (DQG)')\n",
    "plt.legend(['FCI', 'spatial v2RDM (DQG)'])"
   ],
   "id": "fffecb8ed614db29",
   "outputs": [
    {
     "data": {
      "text/plain": [
       "<matplotlib.legend.Legend at 0x138fcad90>"
      ]
     },
     "execution_count": 5,
     "metadata": {},
     "output_type": "execute_result"
    },
    {
     "data": {
      "text/plain": [
       "<Figure size 640x480 with 1 Axes>"
      ],
      "image/png": "[encoded data removed]"
     },
     "metadata": {},
     "output_type": "display_data"
    }
   ],
   "execution_count": 5
  },
  {
   "metadata": {},
   "cell_type": "markdown",
   "source": "## Hydrogen Chain (with measurements)",
   "id": "6130f93bf2f43020"
  },
  {
   "cell_type": "code",
   "id": "initial_id",
   "metadata": {
    "collapsed": true,
    "ExecuteTime": {
     "end_time": "2025-08-24T22:06:38.450011Z",
     "start_time": "2025-08-24T22:06:32.695995Z"
    }
   },
   "source": [
    "# Create molecule\n",
    "molecule = create_molecule('hydrogen_chain', 1.0)\n",
    "\n",
    "# Gather measurements\n",
    "r = molecule.n_orbitals\n",
    "n_measurements = 10\n",
    "D2fci = get_spatial_D2(molecule)\n",
    "measurements = [generate_measurement(D2fci, r) for _ in range(n_measurements)]\n",
    "\n",
    "# Run SDP\n",
    "result = run_sdp(molecule, conditions='DQ', measurements=measurements)\n",
    "\n",
    "# Output\n",
    "print('FCI energy:', molecule.fci_energy)\n",
    "print('SDP Result:', result['primal'])"
   ],
   "outputs": [
    {
     "name": "stdout",
     "output_type": "stream",
     "text": [
      "FCI energy: -2.1663874486347607\n",
      "SDP Result: -2.1667561910794975\n"
     ]
    }
   ],
   "execution_count": 7
  }
 ],
 "metadata": {
  "kernelspec": {
   "display_name": "Python 3",
   "language": "python",
   "name": "python3"
  },
  "language_info": {
   "codemirror_mode": {
    "name": "ipython",
    "version": 2
   },
   "file_extension": ".py",
   "mimetype": "text/x-python",
   "name": "python",
   "nbconvert_exporter": "python",
   "pygments_lexer": "ipython2",
   "version": "2.7.6"
  }
 },
 "nbformat": 4,
 "nbformat_minor": 5
}
