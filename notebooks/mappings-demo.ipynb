{
 "cells": [
  {
   "metadata": {},
   "cell_type": "markdown",
   "source": [
    "# Demo: DQG Mappings\n",
    "This notebook demonstrates the correctness of the Q and G mappings used for the spatial v2RDM.\n",
    "\n",
    "## Contents:\n",
    "1. [Constructing ¹D and ¹Q](#section1)\n",
    "2. [Constructing ²D](#section2)\n",
    "3. [Demonstrating the correctness of mappings $f_Q$ and $f_G$](#section3)\n",
    "4. [CVXPY functions are equivalent to the Numpy functions](#section4)"
   ],
   "id": "96be5f26f25d71f9"
  },
  {
   "metadata": {
    "ExecuteTime": {
     "end_time": "2025-08-20T20:09:14.741654Z",
     "start_time": "2025-08-20T20:09:14.737609Z"
    }
   },
   "cell_type": "code",
   "source": [
    "# Setup\n",
    "import numpy as np\n",
    "from src.molecule_helper import *\n",
    "from src.dqg import *\n",
    "\n",
    "tolerance = 1e-8\n",
    "is_positive = lambda X: np.all(np.linalg.eigvals(X) + tolerance >= 0)"
   ],
   "id": "214f3e916ff3dedc",
   "outputs": [],
   "execution_count": 17
  },
  {
   "metadata": {},
   "cell_type": "markdown",
   "source": [
    "## 1) Constructing ¹D and ¹Q <a class=\"anchor\" id=\"section1\"></a>\n",
    "We construct $^1D$ and $^1Q$ using the second quantization operators provided by OpenFermion:\n",
    "$$^2D^{i}_{j} = \\bra{\\psi} \\hat{a}^\\dagger_i \\hat{a}_j \\ket{\\psi}$$\n",
    "$$^2Q^{i}_{j} = \\bra{\\psi} \\hat{a}_i \\hat{a}^\\dagger_j \\ket{\\psi}$$\n",
    "\n",
    "The resulting 1-RDM adheres to the following properties (as required [1,2]):\n",
    "\n",
    "(i) $^1D \\succeq 0$, $^1Q \\succeq 0$ (positivity)\n",
    "\n",
    "(ii) $^1Q^i_j = \\delta ^i_j - {}^1D^i_j$"
   ],
   "id": "dbf59cf400f4b564"
  },
  {
   "metadata": {
    "ExecuteTime": {
     "end_time": "2025-08-20T20:09:17.882426Z",
     "start_time": "2025-08-20T20:09:17.259682Z"
    }
   },
   "cell_type": "code",
   "source": [
    "molecule = create_molecule(\"HYDROGEN_CHAIN\", 1.0)\n",
    "hamiltonian = get_hamiltonian(molecule)\n",
    "gs_energy, gs = get_groundstate(hamiltonian)\n",
    "r = molecule.n_orbitals\n",
    "n_qubits = molecule.n_qubits\n",
    "N = molecule.n_electrons"
   ],
   "id": "ccb45b4a05c0d773",
   "outputs": [],
   "execution_count": 18
  },
  {
   "metadata": {
    "ExecuteTime": {
     "end_time": "2025-08-20T20:09:18.651612Z",
     "start_time": "2025-08-20T20:09:18.648122Z"
    }
   },
   "cell_type": "code",
   "source": "print(make_summary(molecule))",
   "id": "5732e505c5acb458",
   "outputs": [
    {
     "name": "stdout",
     "output_type": "stream",
     "text": [
      "Molecule:  Hydrogen_chain_H4_1.0\n",
      "Electrons: 4         \n",
      "Orbitals:  4         \n",
      "Qubits:    8         \n",
      "FCI:       -2.1663874486347607\n",
      "Basis:     sto-3g    \n",
      "\n"
     ]
    }
   ],
   "execution_count": 19
  },
  {
   "metadata": {
    "ExecuteTime": {
     "end_time": "2025-08-20T20:09:34.992105Z",
     "start_time": "2025-08-20T20:09:33.908153Z"
    }
   },
   "cell_type": "code",
   "source": [
    "# Compute D1\n",
    "D1 = computeD1(molecule, gs)\n",
    "Q1 = computeQ1(molecule, gs)"
   ],
   "id": "3b4051f5cdead881",
   "outputs": [],
   "execution_count": 20
  },
  {
   "metadata": {
    "ExecuteTime": {
     "end_time": "2025-08-20T20:09:35.658552Z",
     "start_time": "2025-08-20T20:09:35.652078Z"
    }
   },
   "cell_type": "code",
   "source": [
    "# 1) Positivity\n",
    "print(\"D1 >> 0 ?\", is_positive(D1))\n",
    "print(\"Q1 >> 0 ?\", is_positive(Q1))"
   ],
   "id": "a04e09ff8e997b4f",
   "outputs": [
    {
     "name": "stdout",
     "output_type": "stream",
     "text": [
      "D1 >> 0 ? True\n",
      "Q1 >> 0 ? True\n"
     ]
    }
   ],
   "execution_count": 21
  },
  {
   "metadata": {
    "ExecuteTime": {
     "end_time": "2025-08-20T20:09:37.716204Z",
     "start_time": "2025-08-20T20:09:37.712112Z"
    }
   },
   "cell_type": "code",
   "source": [
    "# 2) Mappings\n",
    "Q1_map = np.eye(D1.shape[0]) - D1\n",
    "print(\"Q1 == Q(D1) ?\", np.allclose(Q1, Q1_map))"
   ],
   "id": "e0c1be13aef7e0bd",
   "outputs": [
    {
     "name": "stdout",
     "output_type": "stream",
     "text": [
      "Q1 == Q(D1) ? True\n"
     ]
    }
   ],
   "execution_count": 22
  },
  {
   "metadata": {},
   "cell_type": "markdown",
   "source": [
    "## 2) Constructing ²D <a class=\"anchor\" id=\"section2\"></a>\n",
    "We construct ${}^2D$ using the second quantization operators provided by OpenFermion:\n",
    "$^2D^{ij}_{kl} = \\bra{\\psi} \\hat{a}^\\dagger_i \\hat{a}^\\dagger_j \\hat{a}_l \\hat{a}_k \\ket{\\psi}$\n",
    "\n",
    "The resulting 2-RDM adheres to the following properties (as required [1, 2]).\n",
    "\n",
    "(i) ${}^2D \\succeq 0$ (positivity)\n",
    "\n",
    "(ii) $\\text{Tr}({}^2D) = N(N-1)$ where $N$ is the number of electrons (trace condition/normalization*)\n",
    "\n",
    "(iii) ${}^2D^{ij}_{kl} = -{}^2D^{ji}_{kl}$ and ${}^2D^{ij}_{kl} = -{}^2D^{ij}_{lk}$ (anti-symmetry)\n",
    "\n",
    "(iv) ${}^2D^{ij}_{kl} = ({}^2D^{kl}_{ij})^\\dagger$ (hermiticity)\n",
    "\n",
    "(v) $^1D^i_k = \\frac{1}{N-1} \\sum_j \\, ^2D^{i,j}_{k,j}$\n",
    "\n",
    "\n",
    "${}^*$Note: in OpenFermion's normalization convention the trace condition does not have the prefactor of 1/2.\n",
    "\n",
    "**References:**\n",
    "\n",
    "[1] Nakata et al. _Variational calculations of fermion second-order reduced density matrices by semidefinite programming algorithm_. J. Chem. Phys. 114, 8282 (2001); doi: 10.1063/1.136\n",
    "\n",
    "[2] A. Eugene DePrince III. _Variational Determination of the Two-Electron Reduced Density Matrix: A Tutorial Review_. 2023. arXiv:2310.10746v3.\n",
    "\n",
    "[3] David A. Mazziotti et al. _Reduced-density-matrix Mechanics: with Application to Many-electron Atoms and Molecules_, John Wiley & Sons, Inc. (2007). ISBN: 978-0-471-79056-3.\n",
    " "
   ],
   "id": "eb1935eed8ce2542"
  },
  {
   "metadata": {
    "ExecuteTime": {
     "end_time": "2025-08-20T20:16:23.607931Z",
     "start_time": "2025-08-20T20:14:41.730883Z"
    }
   },
   "cell_type": "code",
   "source": [
    "# Compute D2\n",
    "D2 = computeD2(molecule, gs)"
   ],
   "id": "ce6e6f1444dd5909",
   "outputs": [
    {
     "name": "stderr",
     "output_type": "stream",
     "text": [
      "/Users/annika/Masters/spatial-mv2RDM/src/dqg.py:116: ComplexWarning: Casting complex values to real discards the imaginary part\n",
      "  M2[i, j, k, l] = expectation(sparse, ground_state)\n"
     ]
    }
   ],
   "execution_count": 23
  },
  {
   "metadata": {
    "ExecuteTime": {
     "end_time": "2025-08-20T20:16:43.671092Z",
     "start_time": "2025-08-20T20:16:43.667127Z"
    }
   },
   "cell_type": "code",
   "source": "print(\"D2 >> 0 ?\", is_positive(D2))",
   "id": "a705d31db054016e",
   "outputs": [
    {
     "name": "stdout",
     "output_type": "stream",
     "text": [
      "D2 >> 0 ? True\n"
     ]
    }
   ],
   "execution_count": 25
  },
  {
   "metadata": {
    "ExecuteTime": {
     "end_time": "2025-08-20T20:17:00.225471Z",
     "start_time": "2025-08-20T20:17:00.220973Z"
    }
   },
   "cell_type": "code",
   "source": [
    "# 2) Normalisation\n",
    "print(\"Tr(D2) =\", np.trace(D2))\n",
    "print(\"Expected:\", N * (N - 1))"
   ],
   "id": "73cc0622f62bf96e",
   "outputs": [
    {
     "name": "stdout",
     "output_type": "stream",
     "text": [
      "Tr(D2) = 11.999999999999993\n",
      "Expected: 12\n"
     ]
    }
   ],
   "execution_count": 26
  },
  {
   "metadata": {
    "ExecuteTime": {
     "end_time": "2025-08-20T20:17:23.060433Z",
     "start_time": "2025-08-20T20:17:23.055169Z"
    }
   },
   "cell_type": "code",
   "source": [
    "# 3) Anti-symmetry\n",
    "Dijkl = D2.reshape(n_qubits, n_qubits, n_qubits, n_qubits)\n",
    "Djikl = Dijkl.transpose(1, 0, 2, 3)\n",
    "Dijlk = Dijkl.transpose(0, 1, 3, 2)\n",
    "\n",
    "print(\"Dijkl == -Djikl ?\", np.array_equal(Dijkl, -Djikl))\n",
    "print(\"Dijkl == -Dijlk ?\", np.array_equal(Dijkl, -Dijlk))"
   ],
   "id": "7a270d0faf5abd4e",
   "outputs": [
    {
     "name": "stdout",
     "output_type": "stream",
     "text": [
      "Dijkl == -Djikl ? True\n",
      "Dijkl == -Dijlk ? True\n"
     ]
    }
   ],
   "execution_count": 27
  },
  {
   "metadata": {
    "ExecuteTime": {
     "end_time": "2025-08-20T20:17:43.423616Z",
     "start_time": "2025-08-20T20:17:43.419708Z"
    }
   },
   "cell_type": "code",
   "source": [
    "# 4) Hermiticity\n",
    "Dklij = Dijkl.conj().transpose(2, 3, 0, 1)\n",
    "\n",
    "print(\"Dijkl == Dklij ?\", np.array_equal(Dijkl, Dklij))"
   ],
   "id": "a51adf4ba79a17fe",
   "outputs": [
    {
     "name": "stdout",
     "output_type": "stream",
     "text": [
      "Dijkl == Dklij ? True\n"
     ]
    }
   ],
   "execution_count": 29
  },
  {
   "metadata": {
    "ExecuteTime": {
     "end_time": "2025-08-20T20:19:11.448100Z",
     "start_time": "2025-08-20T20:19:11.443182Z"
    }
   },
   "cell_type": "code",
   "source": [
    "# 5) 1RDM\n",
    "D1_map = D1_ik_numpy(D2, n_qubits, N)\n",
    "print(\"D1 == D1_ik(D2) ?\", np.allclose(D1_map, D1))"
   ],
   "id": "99749a2002c960d6",
   "outputs": [
    {
     "name": "stdout",
     "output_type": "stream",
     "text": [
      "D1 == D1_ik(D2) ? True\n"
     ]
    }
   ],
   "execution_count": 31
  },
  {
   "metadata": {},
   "cell_type": "markdown",
   "source": [
    "## 3) The mappings $f_Q$ and $f_G$ return the expected ${}^2Q$ and ${}^2G$ <a class=\"anchor\" id=\"section3\"></a>\n",
    "We can calculate ${}^2D$, ${}^2Q$ and ${}^2G$ using OpenFermion:\n",
    "\n",
    "${}^2Q^{ij}_{kl} = \\bra{\\psi} \\hat{a}_i \\hat{a}_j \\hat{a}^\\dagger_l \\hat{a}^\\dagger_k \\ket{\\psi}$\n",
    "\n",
    "${}^2G^{ij}_{kl} = \\bra{\\psi} \\hat{a}^\\dagger_i \\hat{a}_j \\hat{a}^\\dagger_l \\hat{a}_k \\ket{\\psi}$\n",
    "\n",
    "and then apply the functions in `dqg.py` to ${}^2D$ to get back the ${}^2Q$ and ${}^2G$ constructed using OpenFermion.\n",
    "\n",
    "Also test the relation between $^1Q$ and $^2Q$:\n",
    "\n",
    "(i) $^1Q^i_k = \\frac{1}{r-N-1} \\sum_j \\, ^2Q^{i,j}_{k,j}$\n",
    "\n",
    "**References:**\n",
    "\n",
    "[1] David A. Mazziotti et al. _Reduced-density-matrix Mechanics: with Application to Many-electron Atoms and Molecules_, John Wiley & Sons, Inc. (2007). ISBN: 978-0-471-79056-3.\n"
   ],
   "id": "ad5649f00fdaae5a"
  },
  {
   "metadata": {
    "ExecuteTime": {
     "end_time": "2025-08-20T20:24:11.344718Z",
     "start_time": "2025-08-20T20:20:26.214247Z"
    }
   },
   "cell_type": "code",
   "source": [
    "Q2 = computeQ2(molecule, gs)\n",
    "G2 = computeG2(molecule, gs)"
   ],
   "id": "273941560a0ab6cb",
   "outputs": [],
   "execution_count": 32
  },
  {
   "metadata": {
    "ExecuteTime": {
     "end_time": "2025-08-20T20:24:23.998739Z",
     "start_time": "2025-08-20T20:24:23.993525Z"
    }
   },
   "cell_type": "code",
   "source": [
    "# 1) Positivity (also required for Q and G)\n",
    "print(\"Q >> 0 ?\", is_positive(Q2))\n",
    "print(\"G >> 0 ?\", is_positive(G2))"
   ],
   "id": "ae7476223c82c2cf",
   "outputs": [
    {
     "name": "stdout",
     "output_type": "stream",
     "text": [
      "Q >> 0 ? True\n",
      "G >> 0 ? True\n"
     ]
    }
   ],
   "execution_count": 33
  },
  {
   "metadata": {
    "ExecuteTime": {
     "end_time": "2025-08-20T20:24:26.402938Z",
     "start_time": "2025-08-20T20:24:26.396827Z"
    }
   },
   "cell_type": "code",
   "source": [
    "# 2) Mappings\n",
    "Q2_map = Q2_numpy(D2, n_qubits, N)\n",
    "G2_map = G2_numpy(D2, n_qubits, N)\n",
    "\n",
    "print(\"Q2 == Q(D2) ?\", np.allclose(Q2, Q2_map))\n",
    "print(\"G2 == G(D2) ?\", np.allclose(G2, G2_map))"
   ],
   "id": "3320ef7f606b82f1",
   "outputs": [
    {
     "name": "stdout",
     "output_type": "stream",
     "text": [
      "Q2 == Q(D2) ? True\n",
      "G2 == G(D2) ? True\n"
     ]
    }
   ],
   "execution_count": 34
  },
  {
   "metadata": {
    "ExecuteTime": {
     "end_time": "2025-08-20T20:24:30.036012Z",
     "start_time": "2025-08-20T20:24:30.031813Z"
    }
   },
   "cell_type": "code",
   "source": [
    "# 3) Q1 mapping\n",
    "Q1_from_Q2 = Q1_ik_numpy(Q2, molecule.n_qubits, molecule.n_electrons)\n",
    "print(\"Q1 == Q1_ik(Q2) ?\", np.allclose(Q1, Q1_from_Q2))"
   ],
   "id": "4babec0595e7cbc5",
   "outputs": [
    {
     "name": "stdout",
     "output_type": "stream",
     "text": [
      "Q1 == Q1_ik(Q2) ? True\n"
     ]
    }
   ],
   "execution_count": 35
  },
  {
   "metadata": {},
   "cell_type": "markdown",
   "source": "## 4) CVXPY functions are equivalent to the Numpy versions <a class=\"anchor\" id=\"section4\"></a>",
   "id": "ba94a26fb0bd7845"
  },
  {
   "metadata": {
    "ExecuteTime": {
     "end_time": "2025-08-20T20:25:05.770164Z",
     "start_time": "2025-08-20T20:25:05.766103Z"
    }
   },
   "cell_type": "code",
   "source": [
    "import cvxpy as cp\n",
    "\n",
    "D_cvx = cp.Parameter((molecule.n_qubits**2, molecule.n_qubits**2))\n",
    "D_cvx.value = D2"
   ],
   "id": "f6e3c9cd786922e2",
   "outputs": [],
   "execution_count": 36
  },
  {
   "metadata": {
    "ExecuteTime": {
     "end_time": "2025-08-20T20:25:07.705548Z",
     "start_time": "2025-08-20T20:25:07.686764Z"
    }
   },
   "cell_type": "code",
   "source": [
    "D1_cvx = D1_ik_cvxpy(D_cvx, molecule.n_qubits, molecule.n_electrons).value\n",
    "print(\"D1s match?\", np.allclose(D1_cvx, D1_map))"
   ],
   "id": "370afce627a7a418",
   "outputs": [
    {
     "name": "stdout",
     "output_type": "stream",
     "text": [
      "D1s match? True\n"
     ]
    }
   ],
   "execution_count": 37
  },
  {
   "metadata": {
    "ExecuteTime": {
     "end_time": "2025-08-20T20:25:08.801510Z",
     "start_time": "2025-08-20T20:25:08.773037Z"
    }
   },
   "cell_type": "code",
   "source": [
    "Q_cvx = Q2_cvxpy(D_cvx, molecule.n_qubits, molecule.n_electrons).value\n",
    "print(\"Qs match?\", np.allclose(Q_cvx, Q2_map))"
   ],
   "id": "2dca5674d849ee5c",
   "outputs": [
    {
     "name": "stdout",
     "output_type": "stream",
     "text": [
      "Qs match? True\n"
     ]
    }
   ],
   "execution_count": 38
  },
  {
   "metadata": {
    "ExecuteTime": {
     "end_time": "2025-08-20T20:25:09.817297Z",
     "start_time": "2025-08-20T20:25:09.794519Z"
    }
   },
   "cell_type": "code",
   "source": [
    "G_cvx = G2_cvxpy(D_cvx, molecule.n_qubits, molecule.n_electrons).value\n",
    "print(\"Gs match?\", np.allclose(G_cvx, G2_map))"
   ],
   "id": "149e1afe8d5d096",
   "outputs": [
    {
     "name": "stdout",
     "output_type": "stream",
     "text": [
      "Gs match? True\n"
     ]
    }
   ],
   "execution_count": 39
  },
  {
   "metadata": {},
   "cell_type": "markdown",
   "source": "___",
   "id": "cd59603c6a9640fb"
  }
 ],
 "metadata": {
  "kernelspec": {
   "display_name": "Python 3",
   "language": "python",
   "name": "python3"
  },
  "language_info": {
   "codemirror_mode": {
    "name": "ipython",
    "version": 2
   },
   "file_extension": ".py",
   "mimetype": "text/x-python",
   "name": "python",
   "nbconvert_exporter": "python",
   "pygments_lexer": "ipython2",
   "version": "2.7.6"
  }
 },
 "nbformat": 4,
 "nbformat_minor": 5
}
